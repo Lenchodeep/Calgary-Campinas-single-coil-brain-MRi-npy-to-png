{
 "cells": [
  {
   "cell_type": "code",
   "execution_count": null,
   "id": "b79d97d3",
   "metadata": {},
   "outputs": [],
   "source": [
    "import numpy as np\n",
    "import os\n",
    "import matplotlib.pyplot as plt\n",
    "\n",
    "# Load the K-space data\n",
    "path = 'C:\\\\Users\\\\lench\\\\OneDrive\\\\Desktop\\\\Val\\\\path1\\\\'\n",
    "output_path = 'C:\\\\Users\\\\lench\\\\OneDrive\\\\Desktop\\\\Val\\\\output\\\\' # Update the output folder path here\n",
    "\n",
    "# Create the output folder if it doesn't exist\n",
    "if not os.path.exists(output_path):\n",
    "    try:\n",
    "        os.makedirs(output_path)\n",
    "    except PermissionError:\n",
    "        print(f'Error: Permission denied. Please check if you have write permissions for the folder {output_path}')\n",
    "        exit(1)\n",
    "\n",
    "files = os.listdir(path)\n",
    "data_all = []\n",
    "for file in files:\n",
    "    with open(os.path.join(path, file), \"rb\") as fp:\n",
    "        data = np.load(fp)\n",
    "    data_all.append(data)\n",
    "print(data_all[0].shape)\n",
    "\n",
    "def to_complex(data):\n",
    "    data = data[:, :, 0] + 1j * data[:, :, 1]\n",
    "    return data\n",
    "\n",
    "for i in range(len(data_all)):\n",
    "    for j in range(data_all[i].shape[0]):\n",
    "        img = np.fft.ifft2(to_complex(data_all[i][j]))\n",
    "\n",
    "        # Save the reconstructed image\n",
    "        filename = f'reconstructed_image_{i}_{j}.png'  # You can change the filename format as per your requirement\n",
    "        filepath = os.path.join(output_path, filename)\n",
    "        plt.imsave(filepath, np.abs(img), cmap='gray')\n",
    "\n",
    "        # Display the original k-space and reconstructed image\n",
    "        plt.figure(figsize=(8, 8))\n",
    "        plt.subplot(121)\n",
    "        plt.imshow(np.fft.ifftshift(np.log(1 + np.abs(to_complex(data_all[i][j])))), cmap='gray')\n",
    "        plt.title('Full k-space')\n",
    "        plt.subplot(122)\n",
    "        plt.imshow(np.abs(img), cmap='gray')\n",
    "        plt.title('Reconstructed Image')\n",
    "        plt.show()\n"
   ]
  }
 ],
 "metadata": {
  "kernelspec": {
   "display_name": "Python 3 (ipykernel)",
   "language": "python",
   "name": "python3"
  },
  "language_info": {
   "codemirror_mode": {
    "name": "ipython",
    "version": 3
   },
   "file_extension": ".py",
   "mimetype": "text/x-python",
   "name": "python",
   "nbconvert_exporter": "python",
   "pygments_lexer": "ipython3",
   "version": "3.9.7"
  }
 },
 "nbformat": 4,
 "nbformat_minor": 5
}
